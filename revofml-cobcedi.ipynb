{
 "cells": [
  {
   "cell_type": "markdown",
   "metadata": {},
   "source": [
    "<h1>Objectives</h1>"
   ]
  },
  {
   "cell_type": "markdown",
   "metadata": {},
   "source": [
    "1. Remember what Machine Learning(ML) is.\n",
    "2. Review the sci-kit python module.\n",
    "3. Review the types of machine learning and understand each type and be capable to give examples of each type.\n",
    "4. Practice making simple machine learning models based on the types that you have learnt.\n",
    "5. Learn more about sci-kit learn python package/library.\n",
    "6. You should be able to make those little machine learning models with the sci-kit learn function on your own without need to revisit courework again.\n",
    "7. Learn about the Tensorflow framework and why it is considered a framework for Machine Learning with other programming languages.\n",
    "8. Be confident in your use of the sci-kit learn library and make up projects to want to make and build them and publish on Github and write documentation on them. "
   ]
  },
  {
   "cell_type": "markdown",
   "metadata": {},
   "source": [
    "<h2>1. What Machine learning is.</h2>"
   ]
  },
  {
   "cell_type": "markdown",
   "metadata": {},
   "source": []
  }
 ],
 "metadata": {
  "language_info": {
   "name": "python"
  }
 },
 "nbformat": 4,
 "nbformat_minor": 2
}
